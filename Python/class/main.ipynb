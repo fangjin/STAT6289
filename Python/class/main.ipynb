{
 "cells": [
  {
   "cell_type": "markdown",
   "metadata": {},
   "source": [
    "**What is the main() function in Python?**\n",
    "\n",
    "Some programming languages have a special function called main() which is the execution point for a program file. Python interpreter, however, runs each line serially from the top of the file and has no explicit main() function.\n",
    "\n",
    "Python offers other conventions to define the execution point. One of them is using the main() function and the __name__ property of a python file."
   ]
  },
  {
   "cell_type": "code",
   "execution_count": 10,
   "metadata": {},
   "outputs": [
    {
     "name": "stdout",
     "output_type": "stream",
     "text": [
      "Hello World\n"
     ]
    }
   ],
   "source": [
    "def main():\n",
    "    print(\"Hello World\")\n",
    "\n",
    "if __name__==\"__main__\":\n",
    "    main()"
   ]
  },
  {
   "cell_type": "code",
   "execution_count": 11,
   "metadata": {},
   "outputs": [
    {
     "name": "stdout",
     "output_type": "stream",
     "text": [
      "Guru99\n"
     ]
    }
   ],
   "source": [
    "def main():\n",
    "     print (\"hello world!\")\n",
    "print (\"Guru99\")"
   ]
  },
  {
   "cell_type": "markdown",
   "metadata": {},
   "source": [
    "It is because we did not declare the call function \"if__name__== \"__main__\"."
   ]
  },
  {
   "cell_type": "code",
   "execution_count": 1,
   "metadata": {},
   "outputs": [
    {
     "name": "stdout",
     "output_type": "stream",
     "text": [
      "Hello\n",
      "hey there\n"
     ]
    }
   ],
   "source": [
    "print(\"Hello\")\n",
    "  \n",
    "# Defining main function\n",
    "def main():\n",
    "    print(\"hey there\")\n",
    "  \n",
    "  \n",
    "# Using the special variable __name__\n",
    "if __name__==\"__main__\":\n",
    "    main()"
   ]
  },
  {
   "cell_type": "code",
   "execution_count": 12,
   "metadata": {},
   "outputs": [
    {
     "name": "stdout",
     "output_type": "stream",
     "text": [
      "hello world!\n",
      "Guru99\n",
      "Value in built variable name is:   __main__\n"
     ]
    }
   ],
   "source": [
    "def main():\n",
    "    print(\"hello world!\")\n",
    "\n",
    "if __name__ == \"__main__\":\n",
    "    main()\n",
    "\n",
    "print(\"Guru99\")\n",
    "\n",
    "print(\"Value in built variable name is:  \",__name__)"
   ]
  },
  {
   "cell_type": "markdown",
   "metadata": {},
   "source": [
    "In Python 3, you do not need to use if__name. Following code also works"
   ]
  },
  {
   "cell_type": "code",
   "execution_count": 13,
   "metadata": {},
   "outputs": [
    {
     "name": "stdout",
     "output_type": "stream",
     "text": [
      "Hello World!\n",
      "Guru99\n"
     ]
    }
   ],
   "source": [
    "def main():\n",
    "  print(\"Hello World!\")\n",
    "  \n",
    "main()\n",
    "print(\"Guru99\")"
   ]
  },
  {
   "cell_type": "markdown",
   "metadata": {},
   "source": [
    "**One interesting example**"
   ]
  },
  {
   "cell_type": "code",
   "execution_count": 2,
   "metadata": {},
   "outputs": [
    {
     "name": "stdout",
     "output_type": "stream",
     "text": [
      "My data read from the Web\n"
     ]
    }
   ],
   "source": [
    "if __name__ == \"__main__\":\n",
    "    data = \"My data read from the Web\"\n",
    "    print(data)"
   ]
  },
  {
   "cell_type": "code",
   "execution_count": 15,
   "metadata": {},
   "outputs": [
    {
     "name": "stdout",
     "output_type": "stream",
     "text": [
      "My data read from the Web\n"
     ]
    }
   ],
   "source": [
    "def main():\n",
    "    data = \"My data read from the Web\"\n",
    "    print(data)\n",
    "\n",
    "if __name__ == \"__main__\":\n",
    "    main()"
   ]
  },
  {
   "cell_type": "code",
   "execution_count": 4,
   "metadata": {},
   "outputs": [
    {
     "name": "stdout",
     "output_type": "stream",
     "text": [
      "My data read from the Web\n",
      "Beginning data processing...\n",
      "Data processing finished.\n",
      "My data read from the Web that has been modified\n"
     ]
    }
   ],
   "source": [
    "def process_data(data):\n",
    "    print(\"Beginning data processing...\")\n",
    "    modified_data = data + \" that has been modified\"\n",
    "    print(\"Data processing finished.\")\n",
    "    return modified_data\n",
    "\n",
    "def main():\n",
    "    data = \"My data read from the Web\"\n",
    "    print(data)\n",
    "    modified_data = process_data(data)\n",
    "    print(modified_data)\n",
    "\n",
    "if __name__ == \"__main__\":\n",
    "    main()"
   ]
  },
  {
   "cell_type": "code",
   "execution_count": 9,
   "metadata": {},
   "outputs": [
    {
     "name": "stdout",
     "output_type": "stream",
     "text": [
      "Reading data from the Web\n"
     ]
    }
   ],
   "source": [
    "def process_data(data):\n",
    "    print(\"Beginning data processing...\")\n",
    "    modified_data = data + \" that has been modified\"\n",
    "    print(\"Data processing finished.\")\n",
    "    return modified_data\n",
    "\n",
    "def read_data_from_web():\n",
    "    print(\"Reading data from the Web\")\n",
    "    data = \"Data from the web\"\n",
    "    return data\n",
    "\n",
    "def write_data_to_database(data):\n",
    "    print(\"Writing data to a database\")\n",
    "    print(data)\n",
    "\n",
    "def main():\n",
    "    data = read_data_from_web()\n",
    "    #modified_data = process_data(data)\n",
    "    #write_data_to_database(modified_data)\n",
    "\n",
    "if __name__ == \"__main__\":\n",
    "    main()"
   ]
  },
  {
   "cell_type": "code",
   "execution_count": null,
   "metadata": {},
   "outputs": [],
   "source": []
  }
 ],
 "metadata": {
  "kernelspec": {
   "display_name": "Python 3",
   "language": "python",
   "name": "python3"
  },
  "language_info": {
   "codemirror_mode": {
    "name": "ipython",
    "version": 3
   },
   "file_extension": ".py",
   "mimetype": "text/x-python",
   "name": "python",
   "nbconvert_exporter": "python",
   "pygments_lexer": "ipython3",
   "version": "3.8.5"
  }
 },
 "nbformat": 4,
 "nbformat_minor": 4
}
