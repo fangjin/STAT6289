{
 "cells": [
  {
   "cell_type": "markdown",
   "metadata": {
    "slideshow": {
     "slide_type": "slide"
    }
   },
   "source": [
    "# 7. Array-Oriented Programming with NumPy"
   ]
  },
  {
   "cell_type": "markdown",
   "metadata": {
    "slideshow": {
     "slide_type": "slide"
    }
   },
   "source": [
    "### Objectives \n",
    "In this chapter, you’ll:\n",
    "* Learn what arrays are and how\n",
    "they differ from lists.\n",
    "* Use the numpy module’s highperformance\n",
    "ndarrays.\n",
    "* Compare list and ndarray\n",
    "performance with the IPython\n",
    "%timeit magic.\n",
    "* Use ndarrays to store and\n",
    "retrieve data efficiently.\n",
    "* Create and initialize\n",
    "ndarrays."
   ]
  },
  {
   "cell_type": "markdown",
   "metadata": {
    "slideshow": {
     "slide_type": "slide"
    }
   },
   "source": [
    "### Objectives (cont.)\n",
    "* Refer to individual ndarray\n",
    "elements.\n",
    "* Iterate through ndarrays.\n",
    "* Create and manipulate\n",
    "multidimensional ndarrays.\n",
    "* Perform common ndarray\n",
    "manipulations.\n",
    "* Create and manipulate\n",
    "pandas one-dimensional\n",
    "Series and two-dimensional\n",
    "DataFrames."
   ]
  },
  {
   "cell_type": "markdown",
   "metadata": {
    "slideshow": {
     "slide_type": "slide"
    }
   },
   "source": [
    "### Objectives (cont.)\n",
    "* Customize Series and\n",
    "DataFrame indices.\n",
    "* Calculate basic descriptive\n",
    "statistics for data in a Series\n",
    "and a DataFrame.\n",
    "* Customize floating-point\n",
    "number precision in pandas\n",
    "output formatting."
   ]
  },
  {
   "cell_type": "markdown",
   "metadata": {
    "slideshow": {
     "slide_type": "slide"
    }
   },
   "source": [
    "### Outline \n",
    "* [7.1 Introduction](07_01.ipynb)\n",
    "* [7.2 Creating arrays from Existing Data](07_02.ipynb)\n",
    "* [7.3 array Attributes](07_03.ipynb)\n",
    "* [7.4 Filling arrays with Specific Values](07_04.ipynb)\n",
    "* [7.5 Creating arrays from Ranges](07_05.ipynb)"
   ]
  },
  {
   "cell_type": "markdown",
   "metadata": {
    "slideshow": {
     "slide_type": "slide"
    }
   },
   "source": [
    "### Outline (cont.)\n",
    "* [7.6 List vs. array Performance: Introducing %timeit](07_06.ipynb)\n",
    "* [7.7 array Operators](07_07.ipynb)\n",
    "* [7.8 NumPy Calculation Methods](07_08.ipynb)\n",
    "* [7.9 Universal Functions](07_09.ipynb)\n",
    "* [7.10 Indexing and Slicing](07_10.ipynb)\n",
    "* [7.11 Views: Shallow Copies](07_11.ipynb)"
   ]
  },
  {
   "cell_type": "markdown",
   "metadata": {
    "slideshow": {
     "slide_type": "slide"
    }
   },
   "source": [
    "### Outline (cont.)\n",
    "* [7.12 Deep Copies](07_12.ipynb)\n",
    "* [7.13 Reshaping and Transposing](07_13.ipynb)\n",
    "* [7.14 Intro to Data Science: pandas Series and DataFrames](07_14.ipynb)\n",
    "    * [7.14.1 pandas Series](07_14.01.ipynb)\n",
    "    * [7.14.2 DataFrames](07_14.02.ipynb)\n",
    "* 7.15 Wrap-Up\n",
    "* Exercises"
   ]
  },
  {
   "cell_type": "markdown",
   "metadata": {},
   "source": [
    "------\n",
    "&copy;1992&ndash;2020 by Pearson Education, Inc. All Rights Reserved. This content is based on Chapter 5 of the book [**Intro to Python for Computer Science and Data Science: Learning to Program with AI, Big Data and the Cloud**](https://amzn.to/2VvdnxE).\n",
    "\n",
    "DISCLAIMER: The authors and publisher of this book have used their \n",
    "best efforts in preparing the book. These efforts include the \n",
    "development, research, and testing of the theories and programs \n",
    "to determine their effectiveness. The authors and publisher make \n",
    "no warranty of any kind, expressed or implied, with regard to these \n",
    "programs or to the documentation contained in these books. The authors \n",
    "and publisher shall not be liable in any event for incidental or \n",
    "consequential damages in connection with, or arising out of, the \n",
    "furnishing, performance, or use of these programs.                  "
   ]
  }
 ],
 "metadata": {
  "celltoolbar": "Slideshow",
  "kernelspec": {
   "display_name": "Python 3",
   "language": "python",
   "name": "python3"
  },
  "language_info": {
   "codemirror_mode": {
    "name": "ipython",
    "version": 3
   },
   "file_extension": ".py",
   "mimetype": "text/x-python",
   "name": "python",
   "nbconvert_exporter": "python",
   "pygments_lexer": "ipython3",
   "version": "3.8.5"
  }
 },
 "nbformat": 4,
 "nbformat_minor": 2
}
