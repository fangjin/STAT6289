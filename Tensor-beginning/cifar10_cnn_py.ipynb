{
  "nbformat": 4,
  "nbformat_minor": 0,
  "metadata": {
    "colab": {
      "provenance": []
    },
    "kernelspec": {
      "name": "python3",
      "display_name": "Python 3"
    },
    "language_info": {
      "name": "python"
    }
  },
  "cells": [
    {
      "cell_type": "markdown",
      "source": [
        "Import necessary libraries"
      ],
      "metadata": {
        "id": "IszFBGHQyIMx"
      }
    },
    {
      "cell_type": "code",
      "execution_count": null,
      "metadata": {
        "id": "SfV895YDvU7J"
      },
      "outputs": [],
      "source": [
        "'''\n",
        "#Train a simple deep CNN on the CIFAR10 small images dataset.\n",
        "It gets to 75% validation accuracy in 25 epochs, and 79% after 50 epochs.\n",
        "(it's still underfitting at that point, though).\n",
        "'''\n",
        "from __future__ import print_function\n",
        "import keras\n",
        "from keras.datasets import cifar10\n",
        "from keras.preprocessing.image import ImageDataGenerator\n",
        "from keras.models import Sequential\n",
        "from keras.layers import Dense, Dropout, Activation, Flatten\n",
        "from keras.layers import Conv2D, MaxPooling2D\n",
        "import os\n"
      ]
    },
    {
      "cell_type": "markdown",
      "source": [
        "Load data and set the parameters"
      ],
      "metadata": {
        "id": "DHngr4F5yeXV"
      }
    },
    {
      "cell_type": "code",
      "source": [
        "batch_size = 512\n",
        "num_classes = 10\n",
        "epochs = 10\n",
        "data_augmentation = True\n",
        "num_predictions = 20\n",
        "save_dir = os.path.join(os.getcwd(), 'saved_models')\n",
        "model_name = 'keras_cifar10_trained_model.h5'\n",
        "# The data, split between train and test sets:\n",
        "(x_train, y_train), (x_test, y_test) = cifar10.load_data()\n",
        "print('x_train shape:', x_train.shape)\n",
        "print(x_train.shape[0], 'train samples')\n",
        "print(x_test.shape[0], 'test samples')\n",
        "# Convert class vectors to binary class matrices.\n",
        "y_train = keras.utils.to_categorical(y_train, num_classes)\n",
        "y_test = keras.utils.to_categorical(y_test, num_classes)"
      ],
      "metadata": {
        "colab": {
          "base_uri": "https://localhost:8080/"
        },
        "id": "3R0dBp6rvYek",
        "outputId": "dc424020-e1b9-4076-9c6b-ee9d3d62f994"
      },
      "execution_count": null,
      "outputs": [
        {
          "output_type": "stream",
          "name": "stdout",
          "text": [
            "Downloading data from https://www.cs.toronto.edu/~kriz/cifar-10-python.tar.gz\n",
            "170498071/170498071 [==============================] - 2s 0us/step\n",
            "x_train shape: (50000, 32, 32, 3)\n",
            "50000 train samples\n",
            "10000 test samples\n"
          ]
        }
      ]
    },
    {
      "cell_type": "markdown",
      "source": [
        "Generate the model"
      ],
      "metadata": {
        "id": "D16Y9hMByiKX"
      }
    },
    {
      "cell_type": "code",
      "source": [
        "model = Sequential()\n",
        "model.add(Conv2D(32, (3, 3), padding='same',\n",
        "    input_shape=x_train.shape[1:]))\n",
        "model.add(Activation('relu'))\n",
        "model.add(Conv2D(32, (3, 3)))\n",
        "model.add(Activation('relu'))\n",
        "model.add(MaxPooling2D(pool_size=(2, 2)))\n",
        "model.add(Dropout(0.25))\n",
        "\n",
        "model.add(Conv2D(64, (3, 3), padding='same'))\n",
        "model.add(Activation('relu'))\n",
        "model.add(Conv2D(64, (3, 3)))\n",
        "model.add(Activation('relu'))\n",
        "model.add(MaxPooling2D(pool_size=(2, 2)))\n",
        "model.add(Dropout(0.25))\n",
        "\n",
        "model.add(Flatten())\n",
        "model.add(Dense(512))\n",
        "model.add(Activation('relu'))\n",
        "model.add(Dropout(0.5))\n",
        "model.add(Dense(num_classes))\n",
        "model.add(Activation('softmax'))"
      ],
      "metadata": {
        "id": "o_J3v0XUveSt"
      },
      "execution_count": null,
      "outputs": []
    },
    {
      "cell_type": "markdown",
      "source": [
        "Train the model"
      ],
      "metadata": {
        "id": "ygnG_8_EyEyS"
      }
    },
    {
      "cell_type": "code",
      "source": [
        "# initiate RMSprop optimizer\n",
        "opt = keras.optimizers.legacy.RMSprop(learning_rate=0.0001, decay=1e-6)\n",
        "\n",
        "# Let's train the model using RMSprop\n",
        "model.compile(loss='categorical_crossentropy',\n",
        "  optimizer=opt,\n",
        "  metrics=['accuracy'])\n",
        "x_train = x_train.astype('float32')\n",
        "x_test = x_test.astype('float32')\n",
        "x_train /= 255\n",
        "x_test /= 255\n",
        "if not data_augmentation:\n",
        "  print('Not using data augmentation.')\n",
        "  model.fit(x_train, y_train,\n",
        "      batch_size=batch_size,\n",
        "      epochs=epochs,\n",
        "      validation_data=(x_test, y_test),\n",
        "      shuffle=True)\n",
        "else:\n",
        "  print('Using real-time data augmentation.')\n",
        "  # This will do preprocessing and realtime data augmentation:\n",
        "  datagen = ImageDataGenerator(\n",
        "    featurewise_center=False, # set input mean to 0 over the dataset\n",
        "    samplewise_center=False, # set each sample mean to 0\n",
        "    featurewise_std_normalization=False, # divide inputs by std of the dataset\n",
        "    samplewise_std_normalization=False, # divide each input by its std\n",
        "    zca_whitening=False, # apply ZCA whitening\n",
        "    zca_epsilon=1e-06, # epsilon for ZCA whitening\n",
        "    rotation_range=0, # randomly rotate images in the range (degrees, 0 to 180)\n",
        "    # randomly shift images horizontally (fraction of total width)\n",
        "    width_shift_range=0.1,\n",
        "    # randomly shift images vertically (fraction of total height)\n",
        "    height_shift_range=0.1,\n",
        "    shear_range=0., # set range for random shear\n",
        "    zoom_range=0., # set range for random zoom\n",
        "    channel_shift_range=0., # set range for random channel shifts\n",
        "    # set mode for filling points outside the input boundaries\n",
        "    fill_mode='nearest',\n",
        "    cval=0., # value used for fill_mode = \"constant\"\n",
        "    horizontal_flip=True, # randomly flip images\n",
        "    vertical_flip=False, # randomly flip images\n",
        "    # set rescaling factor (applied before any other transformation)\n",
        "    rescale=None,\n",
        "    # set function that will be applied on each input\n",
        "    preprocessing_function=None,\n",
        "    # image data format, either \"channels_first\" or \"channels_last\"\n",
        "    data_format=None,\n",
        "    # fraction of images reserved for validation (strictly between 0 and 1)\n",
        "    validation_split=0.0)\n",
        "  # Compute quantities required for feature-wise normalization\n",
        "  # (std, mean, and principal components if ZCA whitening is applied).\n",
        "  datagen.fit(x_train)\n",
        "\n",
        "  # Fit the model on the batches generated by datagen.flow().\n",
        "  model.fit_generator(datagen.flow(x_train, y_train,\n",
        "                  batch_size=batch_size),\n",
        "            epochs=epochs,\n",
        "            validation_data=(x_test, y_test),\n",
        "            workers=4)"
      ],
      "metadata": {
        "colab": {
          "base_uri": "https://localhost:8080/"
        },
        "id": "jHtKdVCxvlzo",
        "outputId": "91717155-d408-4503-f149-dc6e7d724d66"
      },
      "execution_count": null,
      "outputs": [
        {
          "output_type": "stream",
          "name": "stdout",
          "text": [
            "Using real-time data augmentation.\n"
          ]
        },
        {
          "output_type": "stream",
          "name": "stderr",
          "text": [
            "<ipython-input-8-064ddc977633>:55: UserWarning: `Model.fit_generator` is deprecated and will be removed in a future version. Please use `Model.fit`, which supports generators.\n",
            "  model.fit_generator(datagen.flow(x_train, y_train,\n"
          ]
        },
        {
          "output_type": "stream",
          "name": "stdout",
          "text": [
            "Epoch 1/10\n",
            "98/98 [==============================] - 301s 3s/step - loss: 2.2899 - accuracy: 0.1370 - val_loss: 2.2415 - val_accuracy: 0.2224\n",
            "Epoch 2/10\n",
            "98/98 [==============================] - 246s 2s/step - loss: 2.1823 - accuracy: 0.2065 - val_loss: 2.1248 - val_accuracy: 0.2265\n",
            "Epoch 3/10\n",
            "98/98 [==============================] - 246s 2s/step - loss: 2.1246 - accuracy: 0.2266 - val_loss: 2.0666 - val_accuracy: 0.2553\n",
            "Epoch 4/10\n",
            "98/98 [==============================] - 241s 2s/step - loss: 2.1018 - accuracy: 0.2356 - val_loss: 2.0423 - val_accuracy: 0.2613\n",
            "Epoch 5/10\n",
            "98/98 [==============================] - 246s 2s/step - loss: 2.0832 - accuracy: 0.2427 - val_loss: 2.0218 - val_accuracy: 0.2704\n",
            "Epoch 6/10\n",
            "98/98 [==============================] - 251s 3s/step - loss: 2.0680 - accuracy: 0.2493 - val_loss: 2.0244 - val_accuracy: 0.2666\n",
            "Epoch 7/10\n",
            "98/98 [==============================] - 241s 2s/step - loss: 2.0544 - accuracy: 0.2552 - val_loss: 1.9953 - val_accuracy: 0.2857\n",
            "Epoch 8/10\n",
            "98/98 [==============================] - 241s 2s/step - loss: 2.0423 - accuracy: 0.2604 - val_loss: 1.9865 - val_accuracy: 0.2910\n",
            "Epoch 9/10\n",
            "98/98 [==============================] - 243s 2s/step - loss: 2.0293 - accuracy: 0.2682 - val_loss: 1.9886 - val_accuracy: 0.2802\n",
            "Epoch 10/10\n",
            "98/98 [==============================] - 251s 3s/step - loss: 2.0181 - accuracy: 0.2701 - val_loss: 1.9417 - val_accuracy: 0.3105\n"
          ]
        }
      ]
    },
    {
      "cell_type": "markdown",
      "source": [
        "Save model and weights"
      ],
      "metadata": {
        "id": "9xmliur4x6-m"
      }
    },
    {
      "cell_type": "code",
      "source": [
        "if not os.path.isdir(save_dir):\n",
        "    os.makedirs(save_dir)\n",
        "model_path = os.path.join(save_dir, model_name)\n",
        "model.save(model_path)\n",
        "print('Saved trained model at %s ' % model_path)"
      ],
      "metadata": {
        "colab": {
          "base_uri": "https://localhost:8080/"
        },
        "id": "mrsrKKTCv46j",
        "outputId": "73b833bf-47c0-4f24-ce44-fa08bba3ea8a"
      },
      "execution_count": null,
      "outputs": [
        {
          "output_type": "stream",
          "name": "stdout",
          "text": [
            "Saved trained model at /content/saved_models/keras_cifar10_trained_model.h5 \n"
          ]
        },
        {
          "output_type": "stream",
          "name": "stderr",
          "text": [
            "/usr/local/lib/python3.10/dist-packages/keras/src/engine/training.py:3000: UserWarning: You are saving your model as an HDF5 file via `model.save()`. This file format is considered legacy. We recommend using instead the native Keras format, e.g. `model.save('my_model.keras')`.\n",
            "  saving_api.save_model(\n"
          ]
        }
      ]
    },
    {
      "cell_type": "markdown",
      "source": [
        "Score trained model."
      ],
      "metadata": {
        "id": "jIwudEcwx_XJ"
      }
    },
    {
      "cell_type": "code",
      "source": [
        "scores = model.evaluate(x_test, y_test, verbose=1)\n",
        "print('Test loss:', scores[0])\n",
        "print('Test accuracy:', scores[1])"
      ],
      "metadata": {
        "colab": {
          "base_uri": "https://localhost:8080/"
        },
        "id": "UO1CDSJwx-nu",
        "outputId": "4953a98e-e084-412e-b534-e788f226b5e5"
      },
      "execution_count": null,
      "outputs": [
        {
          "output_type": "stream",
          "name": "stdout",
          "text": [
            "313/313 [==============================] - 13s 40ms/step - loss: 1.9417 - accuracy: 0.3105\n",
            "Test loss: 1.9417240619659424\n",
            "Test accuracy: 0.31049999594688416\n"
          ]
        }
      ]
    }
  ]
}